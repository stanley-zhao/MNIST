{
  "nbformat": 4,
  "nbformat_minor": 0,
  "metadata": {
    "colab": {
      "provenance": [],
      "authorship_tag": "ABX9TyOVkW1IWv0+uB+5qK2l3DuD"
    },
    "kernelspec": {
      "name": "python3",
      "display_name": "Python 3"
    },
    "language_info": {
      "name": "python"
    }
  },
  "cells": [
    {
      "cell_type": "code",
      "execution_count": null,
      "metadata": {
        "id": "ZsCTHh8v23Sk"
      },
      "outputs": [],
      "source": [
        "import numpy as np\n",
        "import tensorflow as tf\n",
        "from tensorflow import keras\n",
        "from matplotlib import pyplot as plt\n",
        "import seaborn as sn"
      ]
    },
    {
      "cell_type": "code",
      "source": [
        "(X_train, y_train), (X_test, y_test) = keras.datasets.mnist.load_data()"
      ],
      "metadata": {
        "id": "sIS5cft738dw"
      },
      "execution_count": null,
      "outputs": []
    },
    {
      "cell_type": "code",
      "source": [
        "X_train = X_train / 255\n",
        "X_test = X_test /255"
      ],
      "metadata": {
        "id": "9M6tCGVA4fAe"
      },
      "execution_count": null,
      "outputs": []
    },
    {
      "cell_type": "code",
      "source": [
        "X_train_flat = X_train.reshape(len(X_train), 28*28)\n",
        "X_test_flat = X_test.reshape(len(X_test), 28*28)"
      ],
      "metadata": {
        "id": "Rn-_embY5fEd"
      },
      "execution_count": null,
      "outputs": []
    },
    {
      "cell_type": "code",
      "source": [
        "model = keras.Sequential([\n",
        "    keras.layers.Dense(128, input_shape=(784,), activation='relu'),\n",
        "    keras.layers.Dense(64, activation='sigmoid'),\n",
        "    keras.layers.Dense(32, activation='sigmoid'),\n",
        "    keras.layers.Dense(10, activation='softmax'),\n",
        "])\n",
        "\n",
        "model.compile(\n",
        "    optimizer='adam',\n",
        "    loss='sparse_categorical_crossentropy',\n",
        "    metrics=['accuracy']\n",
        ")\n",
        "\n",
        "model.fit(X_train_flat, y_train, epochs=5)"
      ],
      "metadata": {
        "id": "c0nhf9545-lI"
      },
      "execution_count": null,
      "outputs": []
    }
  ]
}